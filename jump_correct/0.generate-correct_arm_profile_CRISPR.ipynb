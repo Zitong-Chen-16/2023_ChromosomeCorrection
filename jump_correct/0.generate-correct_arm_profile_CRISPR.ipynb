{
 "cells": [
  {
   "cell_type": "markdown",
   "id": "de731c85",
   "metadata": {},
   "source": [
    "\n",
    "### In this notebook, after loading the harmonized file (generated in 0.generate-feature-select-CRISPR-profile.ipynb) and '../01.create-annotations/output/gene_chromosome_map.tsv' , we append the Metadata_Chromosome and Metadata_Chromosome_arm columns to the data frame. \n",
    "### then, using the Recursion_U2OS_expression_data.csv provided through Recursion, we generate the correct arm profile. (https://www.biorxiv.org/content/10.1101/2023.04.15.537038v1 )\n",
    "\n",
    "in Recursion_U2OS_expression_data.csv. they  uses -3 as a cutoff for calling a gene expressed and the value will be -10,000 if there were zero reads in the raw data. "
   ]
  },
  {
   "cell_type": "code",
   "execution_count": 1,
   "id": "d523305a",
   "metadata": {},
   "outputs": [],
   "source": [
    "import pandas as pd\n",
    "import numpy as np\n",
    "import warnings\n",
    "import utils\n",
    "warnings.filterwarnings('ignore')"
   ]
  },
  {
   "cell_type": "code",
   "execution_count": 2,
   "id": "20582f46",
   "metadata": {},
   "outputs": [],
   "source": [
    "file_name=\"cc_notadjusted\"\n",
    "PCA = True"
   ]
  },
  {
   "cell_type": "code",
   "execution_count": 3,
   "id": "456290ed-6e36-417d-b69c-1faf462cbb1b",
   "metadata": {},
   "outputs": [
    {
     "data": {
      "text/plain": [
       "(51185, 872)"
      ]
     },
     "execution_count": 3,
     "metadata": {},
     "output_type": "execute_result"
    }
   ],
   "source": [
    "# Read Profiles \n",
    "df_crispr_raw = pd.read_parquet(f\"../jump-CRISPR-data/mad_int_featselect_harmony.parquet\")\n",
    "# df_crispr_raw = pd.read_parquet(f\"../jump-CRISPR-data/crispr_harmonized_no_sphering_profiles.parquet\")\n",
    "# df_crispr_raw = pd.read_parquet(f\"../jump-CRISPR-data/{file_name}.parquet\")\n",
    "df_crispr_raw.shape"
   ]
  },
  {
   "cell_type": "code",
   "execution_count": 4,
   "id": "bfe3b755-c981-4912-9e31-c3a8c8e7f076",
   "metadata": {},
   "outputs": [],
   "source": [
    "# Read metadata \n",
    "df_chrom = pd.read_csv('../01.create-annotations/output/gene_chromosome_map.tsv', sep='\\t', dtype=str)\n",
    "df_an = pd.read_csv('../jump-CRISPR-data/crispr.csv.gz')"
   ]
  },
  {
   "cell_type": "code",
   "execution_count": 5,
   "id": "759f91ca-2c12-4bff-bd58-4fea1b032f39",
   "metadata": {},
   "outputs": [
    {
     "name": "stdout",
     "output_type": "stream",
     "text": [
      "Removed nan features: []\n"
     ]
    }
   ],
   "source": [
    "# Preprocess dataframe\n",
    "df_crispr = utils.remove_nan_features(df_crispr_raw)\n",
    "df_crispr = utils.annotate_gene(df_crispr, df_an)\n",
    "df_crispr = utils.annotate_chromosome(df_crispr, df_chrom)\n",
    "\n",
    "df_no_arm = df_crispr[df_crispr['Metadata_Chromosome'].isna()].reset_index(drop=True)\n",
    "df_crispr = utils.sort_on_chromosome(df_crispr)"
   ]
  },
  {
   "cell_type": "code",
   "execution_count": 6,
   "id": "0b34da43-0808-4838-82ce-69c5128060c6",
   "metadata": {},
   "outputs": [
    {
     "name": "stdout",
     "output_type": "stream",
     "text": [
      "(51185, 414)\n"
     ]
    }
   ],
   "source": [
    "if PCA:\n",
    "    df_crispr = pd.concat([df_no_arm, df_crispr], axis=0, ignore_index=True)\n",
    "    df_crispr = utils.transform_data(df_crispr) # Perform PCA\n",
    "    # df_crispr = utils.treatment_level(df_crispr, 'Metadata_JCP2022') # \n",
    "    df_crispr.columns = df_crispr.columns.astype(str)\n",
    "    print(df_crispr.shape)\n",
    "    df_crispr.to_parquet(f\"../jump-CRISPR-data/{file_name}_PCA.parquet\", index=False)"
   ]
  },
  {
   "cell_type": "markdown",
   "id": "449f3411-1a8b-494f-af89-1df088e0cb3f",
   "metadata": {},
   "source": [
    "## Arm position correction from Recursion's U2OS expression data"
   ]
  },
  {
   "cell_type": "code",
   "execution_count": 7,
   "id": "59829e26-5298-48e4-bd30-1d201ae572a4",
   "metadata": {},
   "outputs": [],
   "source": [
    "df_exp = pd.read_csv(\"../jump-CRISPR-data/Recursion_U2OS_expression_data.csv\")"
   ]
  },
  {
   "cell_type": "code",
   "execution_count": 8,
   "id": "1ba1761b-5403-46f8-9ac0-ac58a6275f78",
   "metadata": {},
   "outputs": [],
   "source": [
    "# df_exp = df_exp[df_exp['zfpkm']>-1000].reset_index(drop=True)\n",
    "df_exp = df_exp.assign(Metadata_arm=df_exp.gene.map(dict(zip(df_crispr.Metadata_Symbol, df_crispr.Metadata_arm))))\n",
    "df_exp = df_exp.dropna(subset='Metadata_arm')"
   ]
  },
  {
   "cell_type": "code",
   "execution_count": 9,
   "id": "93dbbfd9-1eda-4412-8150-8a39be6acde9",
   "metadata": {},
   "outputs": [
    {
     "data": {
      "text/plain": [
       "Metadata_arm\n",
       "10p     10\n",
       "10q     63\n",
       "11p     44\n",
       "11q     80\n",
       "12p     27\n",
       "12q     63\n",
       "13q     42\n",
       "14q     52\n",
       "15q     49\n",
       "16p     25\n",
       "16q     34\n",
       "17p     31\n",
       "17q     66\n",
       "18p      4\n",
       "18q     20\n",
       "19p     39\n",
       "19q     53\n",
       "1p     113\n",
       "1q      81\n",
       "20p     15\n",
       "20q     24\n",
       "21q     16\n",
       "22q     29\n",
       "2p      41\n",
       "2q     113\n",
       "3p      39\n",
       "3q      63\n",
       "4p      24\n",
       "4q      80\n",
       "5p      16\n",
       "5q      62\n",
       "6p      64\n",
       "6q      54\n",
       "7p      30\n",
       "7q      58\n",
       "8p      32\n",
       "8q      38\n",
       "9p      18\n",
       "9q      50\n",
       "Xp      27\n",
       "Xq      55\n",
       "Yp       3\n",
       "Yq       5\n",
       "Name: gene, dtype: int64"
      ]
     },
     "execution_count": 9,
     "metadata": {},
     "output_type": "execute_result"
    }
   ],
   "source": [
    "unexpressed_genes = df_exp[df_exp['zfpkm']<-3]['gene'].unique()\n",
    "arm_to_include = df_exp[df_exp['zfpkm']<-3].groupby('Metadata_arm')['gene'].nunique() > 20\n",
    "df_exp[df_exp['zfpkm']<-3].groupby('Metadata_arm')['gene'].nunique()"
   ]
  },
  {
   "cell_type": "code",
   "execution_count": 10,
   "id": "efb7bbcb-2baa-4461-83f6-0f068a528654",
   "metadata": {},
   "outputs": [],
   "source": [
    "feature_cols = df_crispr.filter(regex=\"^(?!Metadata_)\").columns\n",
    "feature_cols_unexpressed = [feat+ '_unexpressed' for feat in feature_cols]\n",
    "\n",
    "df_unexpressed_mean = df_crispr[\n",
    "                            df_crispr['Metadata_Symbol'].isin(unexpressed_genes)\n",
    "                        ].groupby('Metadata_arm')[feature_cols].mean()[\n",
    "                            arm_to_include # filter for arms to include\n",
    "                        ]\n",
    "\n",
    "df_unexpressed_mean = df_crispr.merge(df_unexpressed_mean, \n",
    "                                        on='Metadata_arm', \n",
    "                                        how='left',\n",
    "                                        suffixes=('', '_unexpressed'))[feature_cols_unexpressed]"
   ]
  },
  {
   "cell_type": "code",
   "execution_count": 11,
   "id": "2198d204-e2af-478c-b0f1-ed394d78ac7a",
   "metadata": {},
   "outputs": [],
   "source": [
    "df_unexpressed_mean = df_unexpressed_mean.fillna(0)\n",
    "df_unexpressed_mean.columns = feature_cols"
   ]
  },
  {
   "cell_type": "code",
   "execution_count": 12,
   "id": "2a8463d3-e34b-48ac-b8bb-51bb33400878",
   "metadata": {},
   "outputs": [],
   "source": [
    "df_crispr[feature_cols] = df_crispr[feature_cols] - df_unexpressed_mean[feature_cols]"
   ]
  },
  {
   "cell_type": "code",
   "execution_count": 13,
   "id": "8e947139-67b3-4c28-b00c-ecd0f430b93a",
   "metadata": {},
   "outputs": [],
   "source": [
    "if not PCA:\n",
    "    col = df_no_arm.columns\n",
    "    df_crispr = pd.concat([df_no_arm, df_crispr[col]], axis=0, ignore_index=True)"
   ]
  },
  {
   "cell_type": "code",
   "execution_count": 14,
   "id": "301479ed-a145-4b0c-91ba-8634e207cc6c",
   "metadata": {},
   "outputs": [
    {
     "name": "stdout",
     "output_type": "stream",
     "text": [
      "(51185, 414)\n"
     ]
    }
   ],
   "source": [
    "print(df_crispr.shape)\n",
    "if PCA:\n",
    "    df_crispr.to_parquet(f\"../jump-CRISPR-data/{file_name}_PCA_corrected.parquet\", index=False)\n",
    "df_crispr.to_parquet(f\"../jump-CRISPR-data/{file_name}_corrected.parquet\", index=False)"
   ]
  }
 ],
 "metadata": {
  "kernelspec": {
   "display_name": "Python3.10(cupy_env)",
   "language": "python",
   "name": "cupy"
  },
  "language_info": {
   "codemirror_mode": {
    "name": "ipython",
    "version": 3
   },
   "file_extension": ".py",
   "mimetype": "text/x-python",
   "name": "python",
   "nbconvert_exporter": "python",
   "pygments_lexer": "ipython3",
   "version": "3.10.12"
  }
 },
 "nbformat": 4,
 "nbformat_minor": 5
}
